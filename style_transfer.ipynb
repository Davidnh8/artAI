{
 "cells": [
  {
   "cell_type": "code",
   "execution_count": 1,
   "metadata": {},
   "outputs": [
    {
     "name": "stderr",
     "output_type": "stream",
     "text": [
      "Using TensorFlow backend.\n"
     ]
    },
    {
     "name": "stdout",
     "output_type": "stream",
     "text": [
      "[name: \"/device:CPU:0\"\n",
      "device_type: \"CPU\"\n",
      "memory_limit: 268435456\n",
      "locality {\n",
      "}\n",
      "incarnation: 1929680480929621289\n",
      ", name: \"/device:XLA_CPU:0\"\n",
      "device_type: \"XLA_CPU\"\n",
      "memory_limit: 17179869184\n",
      "locality {\n",
      "}\n",
      "incarnation: 8390462430215677292\n",
      "physical_device_desc: \"device: XLA_CPU device\"\n",
      ", name: \"/device:XLA_GPU:0\"\n",
      "device_type: \"XLA_GPU\"\n",
      "memory_limit: 17179869184\n",
      "locality {\n",
      "}\n",
      "incarnation: 18376350652714666300\n",
      "physical_device_desc: \"device: XLA_GPU device\"\n",
      ", name: \"/device:GPU:0\"\n",
      "device_type: \"GPU\"\n",
      "memory_limit: 14790731367\n",
      "locality {\n",
      "  bus_id: 1\n",
      "  links {\n",
      "  }\n",
      "}\n",
      "incarnation: 12295082636547417875\n",
      "physical_device_desc: \"device: 0, name: Tesla T4, pci bus id: 0000:00:04.0, compute capability: 7.5\"\n",
      "]\n"
     ]
    },
    {
     "name": "stderr",
     "output_type": "stream",
     "text": [
      "/home/davidnh8/artAI/Artist.py:99: UserWarning: Update your `Model` call to the Keras 2 API: `Model(outputs=Tensor(\"bl..., inputs=tf.Tensor(...)`\n",
      "  model = Model(input=input_tensor, output=x)\n",
      "/home/davidnh8/artAI/Artist.py:99: UserWarning: Update your `Model` call to the Keras 2 API: `Model(outputs=Tensor(\"bl..., inputs=Tensor(\"Pl...)`\n",
      "  model = Model(input=input_tensor, output=x)\n",
      "100%|██████████| 25/25 [10:08<00:00, 24.36s/it]\n"
     ]
    }
   ],
   "source": [
    "import Artist\n",
    "import numpy as np\n",
    "\n",
    "content=\"images//Hokusai.jpg\"\n",
    "style=\"images//halloween1.jpg\"\n",
    "iteration_count=25\n",
    "\n",
    "save_path=content.split('.')[0][8:] + \"-\" +style.split('.')[0][8:] + \"-iter=\" + str(iteration_count) + \".jpg\"\n",
    "#save_path=\"dont_override.jpg\"\n",
    "\n",
    "artist = Artist.Artist(content,\n",
    "                style,\n",
    "                content_coeff=1.0,\n",
    "                style_coeff=6000.0,\n",
    "                content_layer_names=['block4_conv2'],\n",
    "                iteration_count=iteration_count,\n",
    "                save_path=save_path)\n",
    "plt.show()"
   ]
  },
  {
   "cell_type": "code",
   "execution_count": null,
   "metadata": {},
   "outputs": [],
   "source": []
  }
 ],
 "metadata": {
  "kernelspec": {
   "display_name": "Python 3",
   "language": "python",
   "name": "python3"
  },
  "language_info": {
   "codemirror_mode": {
    "name": "ipython",
    "version": 3
   },
   "file_extension": ".py",
   "mimetype": "text/x-python",
   "name": "python",
   "nbconvert_exporter": "python",
   "pygments_lexer": "ipython3",
   "version": "3.5.3"
  }
 },
 "nbformat": 4,
 "nbformat_minor": 4
}
